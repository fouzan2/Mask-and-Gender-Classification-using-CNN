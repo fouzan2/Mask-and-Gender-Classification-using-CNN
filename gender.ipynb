{
 "cells": [
  {
   "cell_type": "code",
   "execution_count": 1,
   "id": "d773a664-82da-46eb-b1c9-eb0d4ada85c2",
   "metadata": {},
   "outputs": [
    {
     "name": "stdout",
     "output_type": "stream",
     "text": [
      "Found 3491 images belonging to 2 classes.\n"
     ]
    }
   ],
   "source": [
    "import os\n",
    "from keras.preprocessing.image import ImageDataGenerator\n",
    "train_dir = os.path.join('gender/gender/', 'train')\n",
    "train_datagen = ImageDataGenerator()\n",
    "train_generator = train_datagen.flow_from_directory(train_dir,target_size=(150, 150),class_mode='categorical')"
   ]
  },
  {
   "cell_type": "code",
   "execution_count": 2,
   "id": "5a7d15a7-5bb8-4b1d-8e66-d634cc26c0ec",
   "metadata": {},
   "outputs": [
    {
     "name": "stdout",
     "output_type": "stream",
     "text": [
      "Found 200 images belonging to 2 classes.\n"
     ]
    }
   ],
   "source": [
    "from keras.preprocessing.image import ImageDataGenerator\n",
    "#train_datagen = ImageDataGenerator(rescale=1./255)\n",
    "#train_datagen = ImageDataGenerator(rescale=1./255,rotation_range=40,width_shift_range=0.2,height_shift_range=0.2,shear_range=0.2,zoom_range=train_generator = train_datagen.flow_from_directory(train_dir,target_size=(150, 150),class_mode='categorical')\n",
    "validation_dir = os.path.join('gender/gender/', 'valid')\n",
    "validation_datagen = ImageDataGenerator()\n",
    "validation_generator = validation_datagen.flow_from_directory(validation_dir,target_size=(150, 150),class_mode='categorical')"
   ]
  },
  {
   "cell_type": "code",
   "execution_count": 9,
   "id": "695963e5-adbf-4dc4-8bd1-97e8d8c479ac",
   "metadata": {},
   "outputs": [],
   "source": [
    "from keras import layers\n",
    "from keras import models\n",
    "model = models.Sequential()\n",
    "model.add(layers.Conv2D(32, (3, 3), activation='relu',input_shape=(150, 150, 3)))\n",
    "model.add(layers.MaxPooling2D((2, 2)))\n",
    "model.add(layers.Conv2D(64, (3, 3), activation='relu'))\n",
    "model.add(layers.MaxPooling2D((2, 2)))\n",
    "model.add(layers.Conv2D(128, (3, 3), activation='relu'))\n",
    "model.add(layers.MaxPooling2D((2, 2)))\n",
    "model.add(layers.Conv2D(256, (3, 3), activation='relu'))\n",
    "model.add(layers.MaxPooling2D((2, 2)))\n",
    "model.add(layers.Flatten())\n",
    "model.add(layers.Dense(512, activation='relu'))\n",
    "model.add(layers.Dropout(0.2))\n",
    "model.add(layers.Dense(2, activation='softmax'))"
   ]
  },
  {
   "cell_type": "code",
   "execution_count": 10,
   "id": "e9929709-eecf-4e7a-bac4-f041d6833792",
   "metadata": {},
   "outputs": [],
   "source": [
    "from keras import optimizers\n",
    "model.compile(loss='categorical_crossentropy',optimizer='adam',metrics=['acc'])"
   ]
  },
  {
   "cell_type": "code",
   "execution_count": 11,
   "id": "4049e4c6-6b87-40f9-89e0-1d26b2c4a080",
   "metadata": {},
   "outputs": [
    {
     "name": "stdout",
     "output_type": "stream",
     "text": [
      "Epoch 1/10\n"
     ]
    },
    {
     "name": "stderr",
     "output_type": "stream",
     "text": [
      "C:\\Users\\hp\\AppData\\Local\\Temp\\ipykernel_12688\\638197317.py:1: UserWarning: `Model.fit_generator` is deprecated and will be removed in a future version. Please use `Model.fit`, which supports generators.\n",
      "  history = model.fit_generator(train_generator,epochs=10,validation_data=validation_generator)\n"
     ]
    },
    {
     "name": "stdout",
     "output_type": "stream",
     "text": [
      "110/110 [==============================] - 82s 731ms/step - loss: 2.4075 - acc: 0.5047 - val_loss: 0.6923 - val_acc: 0.5500\n",
      "Epoch 2/10\n",
      "110/110 [==============================] - 82s 745ms/step - loss: 0.6943 - acc: 0.5660 - val_loss: 0.6690 - val_acc: 0.6400\n",
      "Epoch 3/10\n",
      "110/110 [==============================] - 94s 856ms/step - loss: 0.5919 - acc: 0.7127 - val_loss: 0.4192 - val_acc: 0.8150\n",
      "Epoch 4/10\n",
      "110/110 [==============================] - 107s 976ms/step - loss: 0.4327 - acc: 0.8115 - val_loss: 0.3295 - val_acc: 0.8500\n",
      "Epoch 5/10\n",
      "110/110 [==============================] - 91s 824ms/step - loss: 0.3878 - acc: 0.8399 - val_loss: 0.2648 - val_acc: 0.8900\n",
      "Epoch 6/10\n",
      "110/110 [==============================] - 120s 1s/step - loss: 0.3041 - acc: 0.8725 - val_loss: 0.3133 - val_acc: 0.9000\n",
      "Epoch 7/10\n",
      "110/110 [==============================] - 123s 1s/step - loss: 0.2773 - acc: 0.8889 - val_loss: 0.2708 - val_acc: 0.9050\n",
      "Epoch 8/10\n",
      "110/110 [==============================] - 112s 1s/step - loss: 0.2582 - acc: 0.8992 - val_loss: 0.2080 - val_acc: 0.9150\n",
      "Epoch 9/10\n",
      "110/110 [==============================] - 109s 988ms/step - loss: 0.2366 - acc: 0.9106 - val_loss: 0.2500 - val_acc: 0.9050\n",
      "Epoch 10/10\n",
      "110/110 [==============================] - 111s 1s/step - loss: 0.2154 - acc: 0.9201 - val_loss: 0.2458 - val_acc: 0.9250\n"
     ]
    }
   ],
   "source": [
    "history = model.fit_generator(train_generator,epochs=10,validation_data=validation_generator)"
   ]
  },
  {
   "cell_type": "code",
   "execution_count": 12,
   "id": "da54ef3f-8b1f-4aee-8cab-6c6afec94469",
   "metadata": {},
   "outputs": [
    {
     "data": {
      "text/plain": [
       "['gender_detection_model.joblib']"
      ]
     },
     "execution_count": 12,
     "metadata": {},
     "output_type": "execute_result"
    }
   ],
   "source": [
    "import joblib\n",
    "joblib.dump(model, 'gender_detection_model.joblib')"
   ]
  },
  {
   "cell_type": "code",
   "execution_count": 14,
   "id": "8b4dcb99-751b-4543-be2d-864351adb1f7",
   "metadata": {},
   "outputs": [
    {
     "name": "stdout",
     "output_type": "stream",
     "text": [
      "1/1 [==============================] - 0s 287ms/step\n",
      "1/1 [==============================] - 0s 77ms/step\n",
      "1/1 [==============================] - 0s 75ms/step\n",
      "1/1 [==============================] - 0s 80ms/step\n",
      "1/1 [==============================] - 0s 74ms/step\n",
      "1/1 [==============================] - 0s 125ms/step\n",
      "1/1 [==============================] - 0s 61ms/step\n",
      "1/1 [==============================] - 0s 62ms/step\n",
      "1/1 [==============================] - 0s 70ms/step\n",
      "1/1 [==============================] - 0s 115ms/step\n",
      "1/1 [==============================] - 0s 67ms/step\n",
      "1/1 [==============================] - 0s 101ms/step\n",
      "1/1 [==============================] - 0s 99ms/step\n",
      "1/1 [==============================] - 0s 91ms/step\n",
      "1/1 [==============================] - 0s 87ms/step\n",
      "1/1 [==============================] - 0s 92ms/step\n",
      "1/1 [==============================] - 0s 84ms/step\n",
      "1/1 [==============================] - 0s 76ms/step\n",
      "1/1 [==============================] - 0s 80ms/step\n",
      "1/1 [==============================] - 0s 68ms/step\n",
      "1/1 [==============================] - 0s 72ms/step\n",
      "1/1 [==============================] - 0s 69ms/step\n",
      "1/1 [==============================] - 0s 68ms/step\n",
      "1/1 [==============================] - 0s 63ms/step\n",
      "1/1 [==============================] - 0s 64ms/step\n",
      "1/1 [==============================] - 0s 61ms/step\n",
      "1/1 [==============================] - 0s 66ms/step\n",
      "1/1 [==============================] - 0s 75ms/step\n",
      "1/1 [==============================] - 0s 64ms/step\n",
      "1/1 [==============================] - 0s 63ms/step\n",
      "1/1 [==============================] - 0s 72ms/step\n",
      "1/1 [==============================] - 0s 67ms/step\n",
      "1/1 [==============================] - 0s 75ms/step\n",
      "1/1 [==============================] - 0s 66ms/step\n",
      "1/1 [==============================] - 0s 72ms/step\n",
      "1/1 [==============================] - 0s 73ms/step\n",
      "1/1 [==============================] - 0s 59ms/step\n",
      "1/1 [==============================] - 0s 62ms/step\n",
      "1/1 [==============================] - 0s 68ms/step\n",
      "1/1 [==============================] - 0s 74ms/step\n",
      "1/1 [==============================] - 0s 66ms/step\n",
      "1/1 [==============================] - 0s 73ms/step\n",
      "1/1 [==============================] - 0s 63ms/step\n",
      "1/1 [==============================] - 0s 60ms/step\n",
      "1/1 [==============================] - 0s 67ms/step\n",
      "1/1 [==============================] - 0s 74ms/step\n",
      "1/1 [==============================] - 0s 66ms/step\n",
      "1/1 [==============================] - 0s 73ms/step\n",
      "1/1 [==============================] - 0s 76ms/step\n",
      "1/1 [==============================] - 0s 74ms/step\n",
      "1/1 [==============================] - 0s 59ms/step\n",
      "1/1 [==============================] - 0s 74ms/step\n",
      "1/1 [==============================] - 0s 60ms/step\n",
      "1/1 [==============================] - 0s 61ms/step\n",
      "1/1 [==============================] - 0s 64ms/step\n",
      "1/1 [==============================] - 0s 75ms/step\n",
      "1/1 [==============================] - 0s 70ms/step\n",
      "1/1 [==============================] - 0s 62ms/step\n",
      "1/1 [==============================] - 0s 67ms/step\n",
      "1/1 [==============================] - 0s 84ms/step\n",
      "1/1 [==============================] - 0s 82ms/step\n",
      "1/1 [==============================] - 0s 74ms/step\n",
      "1/1 [==============================] - 0s 79ms/step\n",
      "1/1 [==============================] - 0s 65ms/step\n",
      "1/1 [==============================] - 0s 68ms/step\n",
      "1/1 [==============================] - 0s 73ms/step\n",
      "1/1 [==============================] - 0s 64ms/step\n",
      "1/1 [==============================] - 0s 125ms/step\n",
      "1/1 [==============================] - 0s 131ms/step\n",
      "1/1 [==============================] - 0s 112ms/step\n",
      "1/1 [==============================] - 0s 76ms/step\n",
      "1/1 [==============================] - 0s 69ms/step\n"
     ]
    }
   ],
   "source": [
    "import cv2\n",
    "import numpy as np\n",
    "import joblib  # Import joblib for loading the model\n",
    "from tensorflow.keras.models import load_model\n",
    "\n",
    "# Load the Haar Cascade Classifier for face detection\n",
    "face_cascade = cv2.CascadeClassifier(cv2.data.haarcascades + 'haarcascade_frontalface_default.xml')\n",
    "\n",
    "# Load your trained CNN model for mask detection\n",
    "# Replace 'mask_detection_model.joblib' with the path to your saved model file\n",
    "model = joblib.load('gender_detection_model.joblib')\n",
    "\n",
    "# Define the labels for mask and no-mask\n",
    "labels = {0: 'Female', 1: 'Male'}\n",
    "\n",
    "# Open a video capture stream or use an image\n",
    "cap = cv2.VideoCapture(0)  # 0 for webcam, or provide a video file path\n",
    "\n",
    "while True:\n",
    "    # Read a frame from the video stream\n",
    "    ret, frame = cap.read()\n",
    "\n",
    "    # Convert the frame to grayscale for face detection\n",
    "    gray = cv2.cvtColor(frame, cv2.COLOR_BGR2GRAY)\n",
    "\n",
    "    # Detect faces in the frame\n",
    "    faces = face_cascade.detectMultiScale(gray, scaleFactor=1.1, minNeighbors=5, minSize=(30, 30))\n",
    "\n",
    "    # Loop through the detected faces\n",
    "    for (x, y, w, h) in faces:\n",
    "        # Extract the face ROI\n",
    "        face_roi = gray[y:y + h, x:x + w]\n",
    "\n",
    "        # Resize the face ROI to (150, 150) to match the model's input shape\n",
    "        face_roi = cv2.resize(face_roi, (150, 150))\n",
    "\n",
    "        # Convert the grayscale image to RGB by duplicating channels\n",
    "        face_roi_rgb = cv2.cvtColor(face_roi, cv2.COLOR_GRAY2RGB)\n",
    "\n",
    "        # Normalize the pixel values\n",
    "        face_roi_rgb = face_roi_rgb / 255.0\n",
    "\n",
    "        # Expand the dimensions to create a batch of size 1\n",
    "        face_roi_rgb = np.expand_dims(face_roi_rgb, axis=0)\n",
    "\n",
    "        # Make predictions using the CNN model\n",
    "        prediction = model.predict(face_roi_rgb)\n",
    "        label_index = np.argmax(prediction)\n",
    "        label = labels[label_index]\n",
    "        confidence = prediction[0][label_index]\n",
    "\n",
    "        # Draw a rectangle around the face and display the label and confidence\n",
    "        color = (0, 255, 0) if label_index == 0 else (0, 0, 255)\n",
    "        cv2.rectangle(frame, (x, y), (x + w, y + h), color, 2)\n",
    "        cv2.putText(frame, f'{label}: {confidence:.2f}', (x, y - 10), cv2.FONT_HERSHEY_SIMPLEX, 0.7, color, 2)\n",
    "\n",
    "    # Display the frame\n",
    "    cv2.imshow('Gender Detection', frame)\n",
    "\n",
    "    # Break the loop when the 'q' key is pressed\n",
    "    if cv2.waitKey(1) & 0xFF == ord('q'):\n",
    "        break\n",
    "\n",
    "# Release the video capture and close all OpenCV windows\n",
    "cap.release()\n",
    "cv2.destroyAllWindows()"
   ]
  }
 ],
 "metadata": {
  "kernelspec": {
   "display_name": "Python 3 (ipykernel)",
   "language": "python",
   "name": "python3"
  },
  "language_info": {
   "codemirror_mode": {
    "name": "ipython",
    "version": 3
   },
   "file_extension": ".py",
   "mimetype": "text/x-python",
   "name": "python",
   "nbconvert_exporter": "python",
   "pygments_lexer": "ipython3",
   "version": "3.11.2"
  }
 },
 "nbformat": 4,
 "nbformat_minor": 5
}
